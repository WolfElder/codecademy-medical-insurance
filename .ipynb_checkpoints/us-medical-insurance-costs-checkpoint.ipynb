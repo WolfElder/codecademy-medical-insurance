{
 "cells": [
  {
   "cell_type": "markdown",
   "metadata": {},
   "source": [
    "# U.S. Medical Insurance Costs\n",
    "\n",
    "I decided to use the hint structure to do this. I ran the code for this once or twice before now, but I want to use instructions for this try.\n",
    "\n",
    "## Goals:\n",
    "* Find the average age of patients in dataset\n",
    "* Where are the majority of the individuals from\n",
    "* Costs of smokers vs non smokers\n",
    "* What is the average age for someone who has at least one child\n",
    "\n",
    "*This project will become my side project as time goes on. I will come back and add to it as I learn new things or want to practice new ideas.*"
   ]
  },
  {
   "cell_type": "markdown",
   "metadata": {},
   "source": [
    "## Importing things I need\n",
    "\n",
    "*I am only importing things I have learned about so far. Sorry, no panda or pymath*"
   ]
  },
  {
   "cell_type": "code",
   "execution_count": 8,
   "metadata": {},
   "outputs": [],
   "source": [
    "import pprint\n",
    "import csv"
   ]
  },
  {
   "cell_type": "markdown",
   "metadata": {},
   "source": [
    "## Saving Data to variables\n",
    "\n",
    "Here, I don't know if I want it in dictionaries or just in lists. Lists seem easier to work with, but on the other hand, dictionaries are beefy and I like to use them.\n",
    "\n",
    "I decided on keeping them as lists that I can combine and seperate as needed."
   ]
  },
  {
   "cell_type": "code",
   "execution_count": 46,
   "metadata": {},
   "outputs": [],
   "source": [
    "ages = []\n",
    "sexes = []\n",
    "bmis = []\n",
    "children = []\n",
    "smokers = []\n",
    "regions = []\n",
    "charges = []\n",
    "\n",
    "def import_data(lst, csv_file, column):\n",
    "    with open(csv_file) as csv_file:\n",
    "        reader = csv.DictReader(csv_file)\n",
    "        for row in reader:\n",
    "            lst.append(row[column])\n",
    "\n",
    "import_data(ages, 'insurance.csv', 'age')\n",
    "import_data(sexes, 'insurance.csv', 'sex')\n",
    "import_data(bmis, 'insurance.csv', 'bmi')\n",
    "import_data(children, 'insurance.csv', 'children')\n",
    "import_data(smokers, 'insurance.csv', 'smoker')\n",
    "import_data(regions, 'insurance.csv', 'region')\n",
    "import_data(charges, 'insurance.csv', 'charges')"
   ]
  },
  {
   "cell_type": "markdown",
   "metadata": {},
   "source": [
    "## Make a class\n",
    "I want to make a patient class that can hold the things I need it to do. So that is what I am gonna do.\n",
    "\n",
    "### Defining the calss.\n",
    "* Giving it the initial data it needs\n",
    "\n",
    "### Getting to work on the goals = avarage age of patients in dataset\n",
    "* Get all the ages together and devide them by lenght of ages\n",
    "* *In the future I want to add the min and max ranges. Also, I am learning more math skills and stat skills from khan academy and such. Will implement the smart folk stuff later.*\n",
    "\n",
    "### Where are the majority of the people from:\n",
    "* Make a dictionary with the locations as the keyes and a value that counts the places\n",
    "\n",
    "### Smokers vs Non-smokers:\n",
    "* Get the average cost of both\n",
    "    * Get the cost and the status linked together\n",
    "* Return with x pays more than y\n",
    "* *Future x pays z more than y.*"
   ]
  },
  {
   "cell_type": "code",
   "execution_count": 280,
   "metadata": {},
   "outputs": [],
   "source": [
    "class PatientData:\n",
    "    def __init__(self, patient_age, patient_sex, patient_bmi, patient_children, patient_smokers, patient_regions, patient_charges):\n",
    "        self.age = patient_age\n",
    "        self.sex = patient_sex\n",
    "        self.bmi = patient_bmi\n",
    "        self.children = patient_children\n",
    "        self.smokers = patient_smokers\n",
    "        self.regions = patient_regions\n",
    "        self.charges = patient_charges\n",
    "    \n",
    "    def analyze_ages(self):\n",
    "        total_age = 0\n",
    "        for age in self.age:\n",
    "            total_age += int(age)\n",
    "        return \"The average age in this dataset is \" + str(round(total_age / len(self.age),2)) + \" years.\"\n",
    "    \n",
    "    def analyze_regions(self):\n",
    "        dict_regions = {} #I wanted to do something with this, but ran out of time. Will come back to print info on all places later.\n",
    "        max_pop = 0\n",
    "        region = ''\n",
    "        for place in self.regions:\n",
    "            dict_regions[place] = self.regions.count(place)\n",
    "        for place, value in dict_regions.items():\n",
    "            if value > max_pop:\n",
    "                max_pop = value\n",
    "                region = place\n",
    "        return (\"The most people come from the \" + region.title() + \".\")\n",
    "    \n",
    "    def analyze_smokers(self):\n",
    "        smokers = {'yes' : [],\n",
    "                  'no' : []}\n",
    "        lst_smokers = list(zip(self.smokers, self.charges))\n",
    "        for i in lst_smokers:\n",
    "            if 'yes' in i:\n",
    "                smokers['yes'].append(float(i[1]))\n",
    "            else:\n",
    "                smokers['no'].append(float(i[1]))\n",
    "        smoker_average = round(float(sum(smokers['yes']) / len(smokers['yes'])),2)\n",
    "        non_smoker_average = round(float(sum(smokers['no']) / len(smokers['no'])),2)\n",
    "        return \"Smokers pay an average of: \" + str(smoker_average) + \" dollars, where as non-smokers pay an average of \" + str(non_smoker_average) + \" dollars.\"\n",
    "        \n",
    "    \n",
    "    \n",
    "\n",
    "patient_data = PatientData(ages, sexes, bmis, children, smokers, regions, charges)"
   ]
  },
  {
   "cell_type": "markdown",
   "metadata": {},
   "source": [
    "## Calling the class"
   ]
  },
  {
   "cell_type": "code",
   "execution_count": 281,
   "metadata": {},
   "outputs": [
    {
     "name": "stdout",
     "output_type": "stream",
     "text": [
      "The average age in this dataset is 39.21 years.\n",
      "\n",
      "The most people come from the Southeast.\n",
      "\n",
      "Smokers pay an average of: 32050.23 dollars, where as non-smokers pay an average of 8434.27 dollars.\n"
     ]
    }
   ],
   "source": [
    "print(patient_data.analyze_ages())\n",
    "print()\n",
    "print(patient_data.analyze_regions())\n",
    "print()\n",
    "print(patient_data.analyze_smokers())"
   ]
  },
  {
   "cell_type": "markdown",
   "metadata": {},
   "source": [
    "## Stating the findings:\n",
    "* The avergae age across the data is 39.21 years."
   ]
  },
  {
   "cell_type": "code",
   "execution_count": null,
   "metadata": {},
   "outputs": [],
   "source": []
  }
 ],
 "metadata": {
  "kernelspec": {
   "display_name": "Python 3",
   "language": "python",
   "name": "python3"
  },
  "language_info": {
   "codemirror_mode": {
    "name": "ipython",
    "version": 3
   },
   "file_extension": ".py",
   "mimetype": "text/x-python",
   "name": "python",
   "nbconvert_exporter": "python",
   "pygments_lexer": "ipython3",
   "version": "3.8.5"
  }
 },
 "nbformat": 4,
 "nbformat_minor": 4
}
